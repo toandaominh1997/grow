{
 "cells": [
  {
   "cell_type": "code",
   "execution_count": 2,
   "id": "4cd58dd6-182c-4b1b-80b8-e6b5b3702e58",
   "metadata": {},
   "outputs": [
    {
     "ename": "ModuleNotFoundError",
     "evalue": "No module named 'pyspark'",
     "output_type": "error",
     "traceback": [
      "\u001b[0;31m---------------------------------------------------------------------------\u001b[0m",
      "\u001b[0;31mModuleNotFoundError\u001b[0m                       Traceback (most recent call last)",
      "\u001b[0;32m/tmp/ipykernel_1956734/3863595657.py\u001b[0m in \u001b[0;36m<module>\u001b[0;34m\u001b[0m\n\u001b[0;32m----> 1\u001b[0;31m \u001b[0;32mfrom\u001b[0m \u001b[0mpyspark\u001b[0m \u001b[0;32mimport\u001b[0m \u001b[0mSparkContext\u001b[0m\u001b[0;34m\u001b[0m\u001b[0;34m\u001b[0m\u001b[0m\n\u001b[0m\u001b[1;32m      2\u001b[0m \u001b[0msc\u001b[0m \u001b[0;34m=\u001b[0m \u001b[0mSparkContext\u001b[0m\u001b[0;34m.\u001b[0m\u001b[0mgetOrCreate\u001b[0m\u001b[0;34m(\u001b[0m\u001b[0;34m)\u001b[0m\u001b[0;34m\u001b[0m\u001b[0;34m\u001b[0m\u001b[0m\n",
      "\u001b[0;31mModuleNotFoundError\u001b[0m: No module named 'pyspark'"
     ]
    }
   ],
   "source": [
    "from pyspark import SparkContext \n",
    "sc = SparkContext.getOrCreate() "
   ]
  },
  {
   "cell_type": "code",
   "execution_count": 4,
   "id": "8c795b8e-896d-4309-ade4-d30958704ebd",
   "metadata": {},
   "outputs": [],
   "source": [
    "import psycopg2\n",
    "conn = psycopg2.connect(database = \"postgres\", user = \"user\", password = \"password\", host = \"0.0.0.0\", port = \"5432\")\n",
    "cur = conn.cursor()\n",
    "def query(query_string, value_dict=None):\n",
    "    try:\n",
    "        if value_dict != None:\n",
    "            cur.execute(query_string, value_dict)\n",
    "        else: \n",
    "            cur.execute(query_string)\n",
    "        conn.commit()\n",
    "        return cur\n",
    "    except Exception as e:\n",
    "        print('Error. Rollback connection')\n",
    "        conn.rollback()\n",
    "        print(e)\n",
    "    return cur\n"
   ]
  },
  {
   "cell_type": "code",
   "execution_count": 7,
   "id": "66c17f7f-d323-4188-98bf-e2f4888d09b8",
   "metadata": {},
   "outputs": [
    {
     "data": {
      "text/plain": [
       "<cursor object at 0x7f0b0585b5e0; closed: 0>"
      ]
     },
     "execution_count": 7,
     "metadata": {},
     "output_type": "execute_result"
    }
   ],
   "source": [
    "create_query = \"\"\"\n",
    "CREATE TABLE IF NOT EXISTS D_USER (\n",
    "    DIM_SK SERIAL PRIMARY KEY,\n",
    "    USER_NAME VARCHAR NOT NULL,\n",
    "    PASSWORD VARCHAR NOT NULL\n",
    ");\n",
    "\"\"\"\n",
    "query(create_query)"
   ]
  },
  {
   "cell_type": "code",
   "execution_count": null,
   "id": "24afe33d-658d-4df2-88b4-b053f1f961a8",
   "metadata": {},
   "outputs": [],
   "source": []
  }
 ],
 "metadata": {
  "kernelspec": {
   "display_name": "Python 3 (ipykernel)",
   "language": "python",
   "name": "python3"
  },
  "language_info": {
   "codemirror_mode": {
    "name": "ipython",
    "version": 3
   },
   "file_extension": ".py",
   "mimetype": "text/x-python",
   "name": "python",
   "nbconvert_exporter": "python",
   "pygments_lexer": "ipython3",
   "version": "3.9.7"
  }
 },
 "nbformat": 4,
 "nbformat_minor": 5
}
