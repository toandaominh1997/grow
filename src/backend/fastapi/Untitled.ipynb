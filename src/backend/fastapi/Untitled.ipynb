{
 "cells": [
  {
   "cell_type": "code",
   "execution_count": 39,
   "id": "4224a331-c5d8-4709-b997-bb18dd1fbba3",
   "metadata": {},
   "outputs": [],
   "source": [
    "import psycopg2\n",
    "conn = psycopg2.connect(database = \"database\", user = \"user\", password = \"password\", host = \"0.0.0.0\", port = \"5432\")\n",
    "conn.autocommit = False\n",
    "cur = conn.cursor()\n",
    "def query(query_string, value_dict=None):\n",
    "    try:\n",
    "        if value_dict != None:\n",
    "            cur.execute(query_string, value_dict)\n",
    "        else: \n",
    "            cur.execute(query_string)\n",
    "        conn.rollback()\n",
    "        conn.commit()\n",
    "        return cur\n",
    "    except psycopg2.Error as t_err_msg:\n",
    "        print('error: ', t_err_msg)\n",
    "    except (Exception, psycopg2.DatabaseError) as error:\n",
    "        print(\"Error in transaction, reverting all changes using rollback \", error)\n",
    "        conn.rollback()\n",
    "    finally:\n",
    "        print(\"PostgreSQL database connection is closed\")\n",
    "    return cur\n"
   ]
  },
  {
   "cell_type": "code",
   "execution_count": 40,
   "id": "e7955383-bef8-48ad-a956-2042e2dba81d",
   "metadata": {},
   "outputs": [
    {
     "ename": "ProgrammingError",
     "evalue": "no results to fetch",
     "output_type": "error",
     "traceback": [
      "\u001b[0;31m---------------------------------------------------------------------------\u001b[0m",
      "\u001b[0;31mProgrammingError\u001b[0m                          Traceback (most recent call last)",
      "\u001b[0;32m/tmp/ipykernel_1326020/1303312169.py\u001b[0m in \u001b[0;36m<module>\u001b[0;34m\u001b[0m\n\u001b[1;32m      3\u001b[0m \"\"\"\n\u001b[1;32m      4\u001b[0m \u001b[0mcur\u001b[0m\u001b[0;34m.\u001b[0m\u001b[0mexecute\u001b[0m\u001b[0;34m(\u001b[0m\u001b[0mquery_string\u001b[0m\u001b[0;34m)\u001b[0m\u001b[0;34m\u001b[0m\u001b[0;34m\u001b[0m\u001b[0m\n\u001b[0;32m----> 5\u001b[0;31m \u001b[0moutput\u001b[0m \u001b[0;34m=\u001b[0m \u001b[0mcur\u001b[0m\u001b[0;34m.\u001b[0m\u001b[0mfetchall\u001b[0m\u001b[0;34m(\u001b[0m\u001b[0;34m)\u001b[0m\u001b[0;34m\u001b[0m\u001b[0;34m\u001b[0m\u001b[0m\n\u001b[0m\u001b[1;32m      6\u001b[0m \u001b[0moutput\u001b[0m\u001b[0;34m\u001b[0m\u001b[0;34m\u001b[0m\u001b[0m\n",
      "\u001b[0;31mProgrammingError\u001b[0m: no results to fetch"
     ]
    }
   ],
   "source": [
    "query_string = \"\"\"\n",
    "drop table if exists D_TINYURL\n",
    "\"\"\"\n",
    "cur.execute(query_string)\n",
    "output = cur.fetchall()\n",
    "output"
   ]
  },
  {
   "cell_type": "code",
   "execution_count": null,
   "id": "e06723b3-65fe-4491-80d8-d6ac32ad44db",
   "metadata": {},
   "outputs": [],
   "source": []
  }
 ],
 "metadata": {
  "kernelspec": {
   "display_name": "Python 3 (ipykernel)",
   "language": "python",
   "name": "python3"
  },
  "language_info": {
   "codemirror_mode": {
    "name": "ipython",
    "version": 3
   },
   "file_extension": ".py",
   "mimetype": "text/x-python",
   "name": "python",
   "nbconvert_exporter": "python",
   "pygments_lexer": "ipython3",
   "version": "3.9.7"
  }
 },
 "nbformat": 4,
 "nbformat_minor": 5
}
